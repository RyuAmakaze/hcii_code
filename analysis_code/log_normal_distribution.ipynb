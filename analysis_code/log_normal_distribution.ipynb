{
 "cells": [
  {
   "cell_type": "code",
   "execution_count": 52,
   "metadata": {},
   "outputs": [],
   "source": [
    "import matplotlib.pyplot as plt\n",
    "import numpy as np\n",
    "import csv\n",
    "from scipy.stats import lognorm\n",
    "name =\"test\""
   ]
  },
  {
   "cell_type": "code",
   "execution_count": 53,
   "metadata": {},
   "outputs": [
    {
     "name": "stdout",
     "output_type": "stream",
     "text": [
      "[1.02415  1.064762 0.909274 0.916984 0.873333 0.963447 1.140612 1.023243\n",
      " 1.06     1.021905 0.745465 0.989274 0.736803 0.882993 0.784807 0.849637\n",
      " 0.720045 0.959025 0.871179 0.891088 1.048005 0.797664 0.84839  0.83585\n",
      " 0.693923 0.883651 0.795941 0.800068 0.972404 0.861633]\n"
     ]
    },
    {
     "data": {
      "image/png": "[encoded data removed]",
      "text/plain": [
       "<Figure size 432x288 with 1 Axes>"
      ]
     },
     "metadata": {
      "needs_background": "light"
     },
     "output_type": "display_data"
    }
   ],
   "source": [
    "f = open(\"data/\"+name+\"/response.csv\", \"r\")\n",
    "csv_data = csv.reader(f)\n",
    "data = [ e for e in csv_data]\n",
    "f.close()\n",
    "ab = np.zeros(0)\n",
    "for i in range(30):\n",
    "    ab = np.append(ab,float(data[0][i]))\n",
    "    \n",
    "print(ab)\n",
    "count, bins, ignored = plt.hist(ab, 10, density=True, align='mid')\n",
    "plt.show()"
   ]
  },
  {
   "cell_type": "code",
   "execution_count": 58,
   "metadata": {},
   "outputs": [
    {
     "data": {
      "image/png": "[encoded data removed]",
      "text/plain": [
       "<Figure size 432x288 with 1 Axes>"
      ]
     },
     "metadata": {
      "needs_background": "light"
     },
     "output_type": "display_data"
    }
   ],
   "source": [
    "import numpy as np\n",
    "# shpae (形状パラメータ)に 0.5を指定する    \n",
    "s = 0.4\n",
    "# ％点関数 1%から 99% 点までを100等分した配列を生成する   \n",
    "x = np.linspace(lognorm.ppf(0.01, s),lognorm.ppf(0.99, s), 100)\n",
    "fig, ax = plt.subplots(1, 1)\n",
    "# pdf (Probability density function) 確率密度関数\n",
    "ax.plot(ab, lognorm.pdf(ab, s),'r-', lw=5, alpha=0.6, label='lognorm pdf')\n",
    "# shapeを指定して、変数で受ける    \n",
    "rv = lognorm(s)\n",
    "#ax.plot(x, rv.pdf(x), 'k-', lw=2, label='frozen pdf')\n",
    "r = lognorm.rvs(s, size=1000)\n",
    "# ヒストグラムに描画する    \n",
    "ax.hist(ab, density=True, histtype='stepfilled', alpha=0.2)\n",
    "ax.legend(loc='best', frameon=False)\n",
    "plt.show()"
   ]
  },
  {
   "cell_type": "code",
   "execution_count": null,
   "metadata": {},
   "outputs": [],
   "source": []
  }
 ],
 "metadata": {
  "kernelspec": {
   "display_name": "Python 3",
   "language": "python",
   "name": "python3"
  },
  "language_info": {
   "codemirror_mode": {
    "name": "ipython",
    "version": 3
   },
   "file_extension": ".py",
   "mimetype": "text/x-python",
   "name": "python",
   "nbconvert_exporter": "python",
   "pygments_lexer": "ipython3",
   "version": "3.7.3"
  }
 },
 "nbformat": 4,
 "nbformat_minor": 2
}
