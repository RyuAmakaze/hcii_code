{
 "cells": [
  {
   "cell_type": "code",
   "execution_count": 1,
   "metadata": {},
   "outputs": [],
   "source": [
    "from numpy.random import *\n",
    "import numpy as np \n",
    "import scipy.stats as stats\n",
    "import pandas as pd\n",
    "import csv\n",
    "import matplotlib.pyplot as plt"
   ]
  },
  {
   "cell_type": "code",
   "execution_count": 6,
   "metadata": {},
   "outputs": [
    {
     "data": {
      "text/plain": [
       "3207"
      ]
     },
     "execution_count": 6,
     "metadata": {},
     "output_type": "execute_result"
    }
   ],
   "source": [
    "#一列のCSVを読み込み，3つごとに切り分ける\n",
    "\n",
    "f = open(\"data/matsu.csv\", \"r\")\n",
    "csv_data = csv.reader(f)\n",
    "data = [ e for e in csv_data]\n",
    "f.close()\n",
    "\n",
    "ar = np.zeros(0)\n",
    "for i in range(len(data)):\n",
    "    ar = np.append(ar,data[i])\n",
    "\n",
    "x = []\n",
    "y = []\n",
    "time = []\n",
    "i = 0\n",
    "\n",
    "for i in range(len(ar)):\n",
    "    if(i%3==0):\n",
    "        x.append(int(np.str(ar[i])))\n",
    "    if(i%3==1):\n",
    "        y.append(ar[i])\n",
    "    if(i%3==2):\n",
    "        time.append(ar[i])\n",
    "        \n",
    "f = open(\"data/x.csv\", 'a')\n",
    "x_writer = csv.writer(f, lineterminator=\"\\n\")\n",
    "\n",
    "g = open(\"data/y.csv\", 'a')\n",
    "y_writer = csv.writer(g, lineterminator=\"\\n\")\n",
    "\n",
    "h = open(\"data/time.csv\", 'a')\n",
    "time_writer = csv.writer(h, lineterminator=\"\\n\")\n",
    "\n",
    "x_writer.writerow(x)\n",
    "y_writer.writerow(y)\n",
    "time_writer.writerow(time)"
   ]
  },
  {
   "cell_type": "code",
   "execution_count": 7,
   "metadata": {},
   "outputs": [],
   "source": [
    "df1 = pd.read_csv(\"data/x.csv\")\n",
    "df2 = pd.read_csv(\"data/y.csv\")\n",
    "df3 = pd.read_csv(\"data/time.csv\")\n",
    "df_concat = pd.concat([df1,df2,df3],axis=1)\n",
    "df_concat.to_csv(\"data/merge_pos.csv\",index=None)"
   ]
  },
  {
   "cell_type": "code",
   "execution_count": null,
   "metadata": {},
   "outputs": [],
   "source": []
  }
 ],
 "metadata": {
  "kernelspec": {
   "display_name": "Python 3",
   "language": "python",
   "name": "python3"
  },
  "language_info": {
   "codemirror_mode": {
    "name": "ipython",
    "version": 3
   },
   "file_extension": ".py",
   "mimetype": "text/x-python",
   "name": "python",
   "nbconvert_exporter": "python",
   "pygments_lexer": "ipython3",
   "version": "3.7.3"
  }
 },
 "nbformat": 4,
 "nbformat_minor": 2
}
