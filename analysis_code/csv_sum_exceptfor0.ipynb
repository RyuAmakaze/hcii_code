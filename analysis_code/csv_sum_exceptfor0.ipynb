{
 "cells": [
  {
   "cell_type": "code",
   "execution_count": 10,
   "metadata": {},
   "outputs": [],
   "source": [
    "from numpy.random import *\n",
    "import numpy as np \n",
    "import scipy.stats as stats\n",
    "import pandas as pd\n",
    "import csv\n",
    "import matplotlib.pyplot as plt"
   ]
  },
  {
   "cell_type": "code",
   "execution_count": 11,
   "metadata": {},
   "outputs": [
    {
     "name": "stdout",
     "output_type": "stream",
     "text": [
      "csvの要素数 : 3104\n",
      "基本周波数の平均 : 112.79176072234763\n"
     ]
    }
   ],
   "source": [
    "##csvを読み込んで，その列の0以外のものを足し合わせ\n",
    "f = open(\"data/matsu.csv\", \"r\")\n",
    "csv_data = csv.reader(f)\n",
    "data = [ e for e in csv_data]\n",
    "f.close()\n",
    "\n",
    "ar = np.zeros(0)\n",
    "for i in range(len(data)):\n",
    "    ar = np.append(ar,data[i])\n",
    "\n",
    "print(\"csvの要素数 : \"+str(len(ar)))\n",
    "\n",
    "a = 0\n",
    "j = 0\n",
    "for i in range(len(ar)):\n",
    "    if(int(np.str(ar[i])) > 0):\n",
    "        a = a + int(np.str(ar[i]))\n",
    "        j = j + 1\n",
    "\n",
    "print(\"基本周波数の平均 : \"+str(a/j))\n",
    "\n",
    "ar = np.zeros(0)\n",
    "data = []"
   ]
  },
  {
   "cell_type": "code",
   "execution_count": null,
   "metadata": {},
   "outputs": [],
   "source": []
  }
 ],
 "metadata": {
  "kernelspec": {
   "display_name": "Python 3",
   "language": "python",
   "name": "python3"
  },
  "language_info": {
   "codemirror_mode": {
    "name": "ipython",
    "version": 3
   },
   "file_extension": ".py",
   "mimetype": "text/x-python",
   "name": "python",
   "nbconvert_exporter": "python",
   "pygments_lexer": "ipython3",
   "version": "3.7.3"
  }
 },
 "nbformat": 4,
 "nbformat_minor": 2
}
