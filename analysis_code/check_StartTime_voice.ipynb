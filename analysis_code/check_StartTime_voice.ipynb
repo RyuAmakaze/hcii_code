{
 "cells": [
  {
   "cell_type": "code",
   "execution_count": 16,
   "metadata": {},
   "outputs": [],
   "source": [
    "#@Yu Yamaoka\n",
    "#wavファイルにある音声がwavファイル上でいつ再生されたかをcsv保存する。\n",
    "import wave\n",
    "import time\n",
    "import struct\n",
    "import numpy as np\n",
    "from pylab import *\n",
    "import csv\n",
    "\n",
    "#Define\n",
    "name = \"yamaoka\"\n",
    "voice_time = 100#[ms],移動平均幅、音声のあるおおよその時間サイズ，精度を出すために用いる\n",
    "dB = 81##被験者のだいたいの声の大きさ\n",
    "start_n = 38000#処理短縮用\n",
    "response_time = []\n",
    "\n",
    "#音声が以降あるなら1を返す\n",
    "def judge(y,n,samf):#y:音声データ配列,n:配列中の着目点,samf:サンプリング周波数\n",
    "    v = 2*(0.0001)*math.exp(dB/20)#閾値[v]\n",
    "    sig = 0 #シグマの略ってことで\n",
    "    sample = (int)(samf*(voice_time/1000)) #voice_time[ms]声があるなら1を返す\n",
    "    for i in range(sample):\n",
    "        sig += abs(y[n+i])\n",
    "\n",
    "    if(sig >= v*sample): #voice_time後までの振幅の相加平均が閾値vより大きいならture\n",
    "        return 1 \n",
    "    else:\n",
    "        return 0\n",
    "\n",
    "def check(y,samf):\n",
    "    flag = 0\n",
    "    n = start_n\n",
    "    while(n <= len(y) - samf//2)&(flag==0):\n",
    "        if(judge(y,n,samf)==1):\n",
    "            print(\"start n is \"+str(n))\n",
    "            flag = 1\n",
    "        if(10*n%samf==0):\n",
    "            print(\"now time is :\" + str(n/samf)+\"[s]\")\n",
    "        n = n + 1\n",
    "    print(\"response_time is :\"+str(n/samf))\n",
    "    response_time.append(n/samf)\n"
   ]
  },
  {
   "cell_type": "code",
   "execution_count": 15,
   "metadata": {},
   "outputs": [],
   "source": [
    "if __name__ == '__main__':\n",
    "    j = 0\n",
    "    for i in range(30): \n",
    "        if(i%30==0)&(j<4)&(i>0):\n",
    "            j  = j + 1\n",
    "        #wf = wave.open(\"data/\"+name + \"/record/\" + str(j) + \"-\" + str(i-j*15+3) + \".wav\", \"r\")\n",
    "        wf = wave.open(\"data/\"+name + \"/record/\" + str(1) + \"-\" + str(i+1) + \".wav\", \"r\")\n",
    "        fs = wf.getnframes() #総フレーム数\n",
    "        samf = wf.getframerate() #サンプリング周波数\n",
    "        print(\"総フレーム数： \" + str(fs))\n",
    "        print(\"サンプリング周波数： \" + str(samf))\n",
    "        print(\"open file is \" +name + str(j) + \"-\" + str(i-j*15+1) + \".wav\",)\n",
    "    \n",
    "        x = wf.readframes(wf.getnframes())\n",
    "        x = frombuffer(x, dtype=\"int16\") / 32768.0\n",
    "    \n",
    "        check(x,samf)\n",
    "        print(\"*************************************\")\n",
    "    \n",
    "    f = open(\"data/\"+name+\"_ResponseTime.csv\", 'a')\n",
    "    writer = csv.writer(f, lineterminator=\"\\n\")\n",
    "    writer.writerow(response_time)\n"
   ]
  },
  {
   "cell_type": "code",
   "execution_count": null,
   "metadata": {},
   "outputs": [],
   "source": []
  },
  {
   "cell_type": "code",
   "execution_count": null,
   "metadata": {},
   "outputs": [],
   "source": []
  },
  {
   "cell_type": "code",
   "execution_count": null,
   "metadata": {},
   "outputs": [],
   "source": []
  }
 ],
 "metadata": {
  "kernelspec": {
   "display_name": "Python 3",
   "language": "python",
   "name": "python3"
  },
  "language_info": {
   "codemirror_mode": {
    "name": "ipython",
    "version": 3
   },
   "file_extension": ".py",
   "mimetype": "text/x-python",
   "name": "python",
   "nbconvert_exporter": "python",
   "pygments_lexer": "ipython3",
   "version": "3.7.1"
  }
 },
 "nbformat": 4,
 "nbformat_minor": 2
}
