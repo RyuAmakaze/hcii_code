{
 "cells": [
  {
   "cell_type": "code",
   "execution_count": 10,
   "metadata": {},
   "outputs": [],
   "source": [
    "import pandas as pd\n",
    "name = \"correct_number\""
   ]
  },
  {
   "cell_type": "code",
   "execution_count": null,
   "metadata": {},
   "outputs": [],
   "source": [
    "df1 = pd.read_csv(\"data/0\"+name+\".csv\")\n",
    "df2 = pd.read_csv(\"data/1\"+name+\".csv\")\n",
    "df3 = pd.read_csv(\"data/2\"+name+\".csv\")\n",
    "df4 = pd.read_csv(\"data/3\"+name+\".csv\")\n",
    "df5 = pd.read_csv(\"data/4\"+name+\".csv\")\n",
    "\n",
    "df_concat = pd.concat([df1,df2,df3,df4,df5],axis=1)\n",
    "\n",
    "df_concat.to_csv(\"data/\"+merge_name\".csv\",index=None)"
   ]
  }
 ],
 "metadata": {
  "kernelspec": {
   "display_name": "Python 3",
   "language": "python",
   "name": "python3"
  },
  "language_info": {
   "codemirror_mode": {
    "name": "ipython",
    "version": 3
   },
   "file_extension": ".py",
   "mimetype": "text/x-python",
   "name": "python",
   "nbconvert_exporter": "python",
   "pygments_lexer": "ipython3",
   "version": "3.7.3"
  }
 },
 "nbformat": 4,
 "nbformat_minor": 2
}
